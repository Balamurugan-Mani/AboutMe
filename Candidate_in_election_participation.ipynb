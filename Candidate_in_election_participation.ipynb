{
  "nbformat": 4,
  "nbformat_minor": 0,
  "metadata": {
    "colab": {
      "provenance": [],
      "authorship_tag": "ABX9TyPvCPP7zds3JIjjFb94d/Xx",
      "include_colab_link": true
    },
    "kernelspec": {
      "name": "python3",
      "display_name": "Python 3"
    },
    "language_info": {
      "name": "python"
    }
  },
  "cells": [
    {
      "cell_type": "markdown",
      "metadata": {
        "id": "view-in-github",
        "colab_type": "text"
      },
      "source": [
        "<a href=\"https://colab.research.google.com/github/Balamurugan-Mani/AboutMe/blob/main/Candidate_in_election_participation.ipynb\" target=\"_parent\"><img src=\"https://colab.research.google.com/assets/colab-badge.svg\" alt=\"Open In Colab\"/></a>"
      ]
    },
    {
      "cell_type": "code",
      "execution_count": null,
      "metadata": {
        "colab": {
          "base_uri": "https://localhost:8080/"
        },
        "id": "S8fWqEOtmE7s",
        "outputId": "b2cfe080-5706-429f-ce42-10ae089746f9"
      },
      "outputs": [
        {
          "output_type": "stream",
          "name": "stdout",
          "text": [
            "Enter your leader name :A\n",
            "You have been successfully registerd\n",
            "Enter your leader name :B\n",
            "You have been successfully registerd\n",
            "Enter your leader name :C\n",
            "You have been successfully registerd\n",
            "Enter your leader name :D\n",
            "You have been successfully registerd\n",
            "Enter your leader name :E\n",
            "Maximum candidate have been enrolled\n"
          ]
        }
      ],
      "source": [
        "# Task to register leader name who want to participate in election\n",
        "leader = []\n",
        "for i in range(1, 6):\n",
        "    leader_name = input(\"Enter your leader name :\")\n",
        "    leader.append(leader_name)\n",
        "    n = len(leader)\n",
        "    if n < 5 :\n",
        "        print(\"You have been successfully registerd\")\n",
        "    else :\n",
        "        print(\"Maximum candidate have been enrolled\")"
      ]
    },
    {
      "cell_type": "code",
      "source": [
        "# Task to register candidate who want to caste their vote\n",
        "voter = []\n",
        "number = int(input(\"Enter total number of voter want to cast their vote :\"))\n",
        "for i in range(1,number + 1):\n",
        "    voter_id = int(input(\"Enter voter id number :\"))\n",
        "    voter.append(voter_id)"
      ],
      "metadata": {
        "colab": {
          "base_uri": "https://localhost:8080/"
        },
        "id": "wYBK7fSXmbhG",
        "outputId": "540dbe67-bbb9-4f47-f9d1-a58fdf1b285e"
      },
      "execution_count": null,
      "outputs": [
        {
          "name": "stdout",
          "output_type": "stream",
          "text": [
            "Enter total number of voter want to cast their vote :10\n",
            "Enter voter id number :1001\n",
            "Enter voter id number :1002\n",
            "Enter voter id number :1003\n",
            "Enter voter id number :1004\n",
            "Enter voter id number :1005\n",
            "Enter voter id number :1006\n",
            "Enter voter id number :1007\n",
            "Enter voter id number :1008\n",
            "Enter voter id number :1009\n",
            "Enter voter id number :1010\n"
          ]
        }
      ]
    },
    {
      "cell_type": "code",
      "source": [
        "while True :\n",
        "    if voter ==[]:\n",
        "        print(\"Voting session is over\")\n",
        "        max = leader_1_votes\n",
        "        if leader_2_votes > max:\n",
        "            max = leader_2_votes\n",
        "            percent = (leader_2_votes/num_of_voter)*100\n",
        "            print(leader[1],\"has won\",\"with\",percent,\"% votes\")\n",
        "            break\n",
        "        elif leader_3_votes > max:\n",
        "            max = leader_3_votes\n",
        "            percent = (leader_3_votes/num_of_voter)*100\n",
        "            print(leader[2],\"has won\",\"with\",percent,\"% votes\")\n",
        "            break\n",
        "        elif leader_4_votes > max:\n",
        "            max = leader_4_votes\n",
        "            percent = (leader_4_votes/num_of_voter)*100\n",
        "            print(leader[3],\"has won\",\"with\",percent,\"% votes\")\n",
        "            break\n",
        "        elif leader_5_votes > max:\n",
        "            max = leader_5_votes\n",
        "            percent = (leader_5_votes/num_of_voter)*100\n",
        "            print(leader[4],\"has won\",\"with\",percent,\"% votes\")\n",
        "            break\n",
        "        else :\n",
        "            percent = (leader_1_votes/num_of_voter)*100\n",
        "            print(leader[0],\"has won\",\"with\",percent,\"% votes\")\n",
        "            break\n",
        "\n",
        "\n",
        "    else :\n",
        "         voter_id = int(input(\"Enter your voter-id no :\"))\n",
        "         if voter_id in voter:\n",
        "            print(\"You are a voter \")\n",
        "            voter.remove(voter_id)\n",
        "            print(\"========================================================\\n\")\n",
        "            print(\"Here are the list of leader name :\")\n",
        "            print(\" 1.leader-1 : \",leader[0],\n",
        "                  \"\\n 2.leader-2 :\",leader[1],\n",
        "                  \"\\n 3.leader-3 :\",leader[2],\n",
        "                  \"\\n 4.leader-4 :\",leader[3],\n",
        "                  \"\\n 5.leader-5 :\",leader[4])\n",
        "\n",
        "            vote = int(input(\"Cast your vote for leader 1 or leader2 or leader3 or leader4 or leader5  :\\n\"\n",
        "             \" Write only sr. no of leader(like 1 or 2 ) :\\n\"))\n",
        "            print(\"===========================================================\\n\")\n",
        "            if vote == 1:\n",
        "               leader_1_votes+=1\n",
        "               print(\"Thank you for casting your vote \")\n",
        "            elif vote == 2:\n",
        "               leader_2_votes+=1\n",
        "               print(\"Thank you for casting your vote\")\n",
        "            elif vote == 3:\n",
        "               leader_3_votes+=1\n",
        "               print(\"Thank you for casting your vote\")\n",
        "            elif vote == 4:\n",
        "               leader_4_votes+=1\n",
        "               print(\"Thank you for casting your vote\")\n",
        "            elif vote == 5:\n",
        "               leader_5_votes+=1\n",
        "               print(\"Thank you for casting your vote\")\n",
        "            else :\n",
        "                print(\"Leader is not found \\n PLease enter correct leader number\")\n",
        "\n",
        "\n",
        "         else :\n",
        "\n",
        "               print(\"You have already voted or invalid voter id  \")"
      ],
      "metadata": {
        "id": "g_b7mo4XnEWs"
      },
      "execution_count": null,
      "outputs": []
    }
  ]
}